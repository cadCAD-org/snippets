{
 "cells": [
  {
   "cell_type": "markdown",
   "metadata": {},
   "source": [
    "# Minimal model copy\n",
    "\n",
    "*Danilo Lessa Bernardineli*\n",
    "\n",
    "The shortest model ever"
   ]
  },
  {
   "cell_type": "code",
   "execution_count": 1,
   "metadata": {},
   "outputs": [],
   "source": [
    "from cadCAD.configuration import Experiment\n",
    "from cadCAD.configuration.utils import config_sim\n",
    "from cadCAD.configuration import Configuration\n",
    "from cadCAD.engine import ExecutionMode, ExecutionContext, Executor\n",
    "import pandas as pd\n",
    "import numpy as np"
   ]
  },
  {
   "cell_type": "code",
   "execution_count": 2,
   "metadata": {},
   "outputs": [],
   "source": [
    "MONTE_CARLO_RUNS = 1\n",
    "SIMULATION_TIMESTEPS = 100\n",
    "\n",
    "sys_params = {\n",
    "    'max_redeem': [.1]\n",
    "}\n",
    "\n",
    "genesis_states = {\n",
    "    'assets': 100,\n",
    "    'credit': 100,\n",
    "    'redeemable':0\n",
    "}\n",
    "\n",
    "# Production (exogenous process)\n",
    "def produce(params, \n",
    "                substep, \n",
    "                state_history, \n",
    "                prev_state):\n",
    "    amount = np.random.rand()\n",
    "    return {'production':amount}\n",
    "\n",
    "def increment_redeemable(params, \n",
    "                substep, \n",
    "                state_history, \n",
    "                prev_state, _input):\n",
    "    amount = _input['production']\n",
    "    key = 'redeemable'\n",
    "    value = prev_state[key] + amount\n",
    "    return (key,value)\n",
    "\n",
    "# Deposits (exogenous process)\n",
    "\n",
    "def deposit(params, \n",
    "                substep, \n",
    "                state_history, \n",
    "                prev_state):\n",
    "    amount = np.random.rand()\n",
    "    return {'deposit':amount}\n",
    "\n",
    "def increment_assets(params, \n",
    "                substep, \n",
    "                state_history, \n",
    "                prev_state, _input):\n",
    "    amount = _input['deposit']\n",
    "    key = 'assets'\n",
    "    value = prev_state[key] + amount\n",
    "    return (key,value)\n",
    "\n",
    "def increment_credit(params, \n",
    "                substep, \n",
    "                state_history, \n",
    "                prev_state, _input):\n",
    "    deposit = _input['deposit']\n",
    "\n",
    "    #amount = deposit*prev_state['credit']/prev_state['assets']\n",
    "    amount = ( (1+deposit/prev_state['assets'])**(1/2) -1)*prev_state['credit']\n",
    "\n",
    "    key = 'credit'\n",
    "    value = prev_state[key] + amount\n",
    "    return (key,value)\n",
    "\n",
    "# Redemptions (exogenous process)\n",
    "\n",
    "def redeem(params, \n",
    "                substep, \n",
    "                state_history, \n",
    "                prev_state):\n",
    "    amount = prev_state['redeemable']*np.random.rand()*params['max_redeem']\n",
    "    return {'withdrawl':amount}\n",
    "\n",
    "def decrement_redeemable(params, \n",
    "                substep, \n",
    "                state_history, \n",
    "                prev_state, _input):\n",
    "    amount = _input['withdrawl']\n",
    "    key = 'redeemable'\n",
    "    value = prev_state[key] - amount\n",
    "    return (key,value)\n",
    "\n",
    "def decrement_credit(params, \n",
    "                substep, \n",
    "                state_history, \n",
    "                prev_state, _input):\n",
    "    amount = _input['withdrawl']\n",
    "    key = 'credit'\n",
    "    value = prev_state[key] - amount\n",
    "    return (key,value)\n",
    "\n",
    "def decrement_assets(params, \n",
    "                substep, \n",
    "                state_history, \n",
    "                prev_state, _input):\n",
    "    withdrawl = _input['withdrawl']\n",
    "\n",
    "    amount = prev_state['assets']*(prev_state['credit']+prev_state['redeemable']-withdrawl)*withdrawl/(prev_state['redeemable']*prev_state['credit'])\n",
    "\n",
    "    key = 'assets'\n",
    "    value = prev_state[key] - amount\n",
    "    return (key,value)\n",
    "\n",
    "partial_state_update_blocks = [\n",
    "    {\n",
    "        'policies': {produce\n",
    "            \n",
    "        },\n",
    "        'variables': {\n",
    "            'redeemable': increment_redeemable\n",
    "        }\n",
    "    },\n",
    "    {\n",
    "        'policies': {deposit\n",
    "            \n",
    "        },\n",
    "        'variables': {\n",
    "            'assets': increment_assets,\n",
    "            'credit': increment_credit\n",
    "        }\n",
    "    },\n",
    "    {\n",
    "        'policies': {redeem\n",
    "            \n",
    "        },\n",
    "        'variables': {\n",
    "            'assets': decrement_assets,\n",
    "            'credit': decrement_credit,\n",
    "            'redeemable': decrement_redeemable\n",
    "        }\n",
    "    }\n",
    "]\n",
    "\n",
    "sim_config = {\n",
    "    'N': MONTE_CARLO_RUNS,\n",
    "    'T': range(SIMULATION_TIMESTEPS),\n",
    "    'M': sys_params\n",
    "}"
   ]
  },
  {
   "cell_type": "code",
   "execution_count": 3,
   "metadata": {},
   "outputs": [
    {
     "name": "stdout",
     "output_type": "stream",
     "text": [
      "\n",
      "                  ___________    ____\n",
      "  ________ __ ___/ / ____/   |  / __ \\\n",
      " / ___/ __` / __  / /   / /| | / / / /\n",
      "/ /__/ /_/ / /_/ / /___/ ___ |/ /_/ /\n",
      "\\___/\\__,_/\\__,_/\\____/_/  |_/_____/\n",
      "by cadCAD\n",
      "\n",
      "Execution Mode: local_proc\n",
      "Configuration Count: 1\n",
      "Dimensions of the first simulation: (Timesteps, Params, Runs, Vars) = (100, 1, 1, 3)\n",
      "Execution Method: local_simulations\n",
      "SimIDs   : [0]\n",
      "SubsetIDs: [0]\n",
      "Ns       : [0]\n",
      "ExpIDs   : [0]\n",
      "Execution Mode: single_threaded\n",
      "Total execution time: 0.01s\n"
     ]
    }
   ],
   "source": [
    "sim_params = config_sim(sim_config)\n",
    "\n",
    "exp = Experiment()\n",
    "exp.append_configs(\n",
    "    sim_configs=sim_params,\n",
    "    initial_state=genesis_states,\n",
    "    partial_state_update_blocks=partial_state_update_blocks\n",
    ")\n",
    "\n",
    "from cadCAD import configs\n",
    "\n",
    "exec_mode = ExecutionMode()\n",
    "local_mode_ctx = ExecutionContext(context=exec_mode.local_mode)\n",
    "\n",
    "simulation = Executor(exec_context=local_mode_ctx,\n",
    "                      configs=configs)\n",
    "raw_system_events, tensor_field, sessions = simulation.execute()"
   ]
  },
  {
   "cell_type": "code",
   "execution_count": 4,
   "metadata": {},
   "outputs": [],
   "source": [
    "df = pd.DataFrame(raw_system_events)"
   ]
  },
  {
   "cell_type": "code",
   "execution_count": 5,
   "metadata": {},
   "outputs": [
    {
     "data": {
      "text/html": [
       "<div>\n",
       "<style scoped>\n",
       "    .dataframe tbody tr th:only-of-type {\n",
       "        vertical-align: middle;\n",
       "    }\n",
       "\n",
       "    .dataframe tbody tr th {\n",
       "        vertical-align: top;\n",
       "    }\n",
       "\n",
       "    .dataframe thead th {\n",
       "        text-align: right;\n",
       "    }\n",
       "</style>\n",
       "<table border=\"1\" class=\"dataframe\">\n",
       "  <thead>\n",
       "    <tr style=\"text-align: right;\">\n",
       "      <th></th>\n",
       "      <th>assets</th>\n",
       "      <th>credit</th>\n",
       "      <th>redeemable</th>\n",
       "      <th>simulation</th>\n",
       "      <th>subset</th>\n",
       "      <th>run</th>\n",
       "      <th>substep</th>\n",
       "      <th>timestep</th>\n",
       "    </tr>\n",
       "  </thead>\n",
       "  <tbody>\n",
       "    <tr>\n",
       "      <th>0</th>\n",
       "      <td>100.000000</td>\n",
       "      <td>100.000000</td>\n",
       "      <td>0.000000</td>\n",
       "      <td>0</td>\n",
       "      <td>0</td>\n",
       "      <td>1</td>\n",
       "      <td>0</td>\n",
       "      <td>0</td>\n",
       "    </tr>\n",
       "    <tr>\n",
       "      <th>1</th>\n",
       "      <td>100.000000</td>\n",
       "      <td>100.000000</td>\n",
       "      <td>0.641064</td>\n",
       "      <td>0</td>\n",
       "      <td>0</td>\n",
       "      <td>1</td>\n",
       "      <td>1</td>\n",
       "      <td>1</td>\n",
       "    </tr>\n",
       "    <tr>\n",
       "      <th>2</th>\n",
       "      <td>100.859946</td>\n",
       "      <td>100.429053</td>\n",
       "      <td>0.641064</td>\n",
       "      <td>0</td>\n",
       "      <td>0</td>\n",
       "      <td>1</td>\n",
       "      <td>2</td>\n",
       "      <td>1</td>\n",
       "    </tr>\n",
       "    <tr>\n",
       "      <th>3</th>\n",
       "      <td>96.100338</td>\n",
       "      <td>100.398984</td>\n",
       "      <td>0.610995</td>\n",
       "      <td>0</td>\n",
       "      <td>0</td>\n",
       "      <td>1</td>\n",
       "      <td>3</td>\n",
       "      <td>1</td>\n",
       "    </tr>\n",
       "    <tr>\n",
       "      <th>4</th>\n",
       "      <td>96.100338</td>\n",
       "      <td>100.398984</td>\n",
       "      <td>1.392454</td>\n",
       "      <td>0</td>\n",
       "      <td>0</td>\n",
       "      <td>1</td>\n",
       "      <td>1</td>\n",
       "      <td>2</td>\n",
       "    </tr>\n",
       "    <tr>\n",
       "      <th>...</th>\n",
       "      <td>...</td>\n",
       "      <td>...</td>\n",
       "      <td>...</td>\n",
       "      <td>...</td>\n",
       "      <td>...</td>\n",
       "      <td>...</td>\n",
       "      <td>...</td>\n",
       "      <td>...</td>\n",
       "    </tr>\n",
       "    <tr>\n",
       "      <th>296</th>\n",
       "      <td>10.898642</td>\n",
       "      <td>378.040560</td>\n",
       "      <td>11.103308</td>\n",
       "      <td>0</td>\n",
       "      <td>0</td>\n",
       "      <td>1</td>\n",
       "      <td>2</td>\n",
       "      <td>99</td>\n",
       "    </tr>\n",
       "    <tr>\n",
       "      <th>297</th>\n",
       "      <td>10.428184</td>\n",
       "      <td>377.574384</td>\n",
       "      <td>10.637131</td>\n",
       "      <td>0</td>\n",
       "      <td>0</td>\n",
       "      <td>1</td>\n",
       "      <td>3</td>\n",
       "      <td>99</td>\n",
       "    </tr>\n",
       "    <tr>\n",
       "      <th>298</th>\n",
       "      <td>10.428184</td>\n",
       "      <td>377.574384</td>\n",
       "      <td>11.165018</td>\n",
       "      <td>0</td>\n",
       "      <td>0</td>\n",
       "      <td>1</td>\n",
       "      <td>1</td>\n",
       "      <td>100</td>\n",
       "    </tr>\n",
       "    <tr>\n",
       "      <th>299</th>\n",
       "      <td>10.781929</td>\n",
       "      <td>383.925019</td>\n",
       "      <td>11.165018</td>\n",
       "      <td>0</td>\n",
       "      <td>0</td>\n",
       "      <td>1</td>\n",
       "      <td>2</td>\n",
       "      <td>100</td>\n",
       "    </tr>\n",
       "    <tr>\n",
       "      <th>300</th>\n",
       "      <td>9.880088</td>\n",
       "      <td>383.015433</td>\n",
       "      <td>10.255432</td>\n",
       "      <td>0</td>\n",
       "      <td>0</td>\n",
       "      <td>1</td>\n",
       "      <td>3</td>\n",
       "      <td>100</td>\n",
       "    </tr>\n",
       "  </tbody>\n",
       "</table>\n",
       "<p>301 rows × 8 columns</p>\n",
       "</div>"
      ],
      "text/plain": [
       "         assets      credit  redeemable  simulation  subset  run  substep  \\\n",
       "0    100.000000  100.000000    0.000000           0       0    1        0   \n",
       "1    100.000000  100.000000    0.641064           0       0    1        1   \n",
       "2    100.859946  100.429053    0.641064           0       0    1        2   \n",
       "3     96.100338  100.398984    0.610995           0       0    1        3   \n",
       "4     96.100338  100.398984    1.392454           0       0    1        1   \n",
       "..          ...         ...         ...         ...     ...  ...      ...   \n",
       "296   10.898642  378.040560   11.103308           0       0    1        2   \n",
       "297   10.428184  377.574384   10.637131           0       0    1        3   \n",
       "298   10.428184  377.574384   11.165018           0       0    1        1   \n",
       "299   10.781929  383.925019   11.165018           0       0    1        2   \n",
       "300    9.880088  383.015433   10.255432           0       0    1        3   \n",
       "\n",
       "     timestep  \n",
       "0           0  \n",
       "1           1  \n",
       "2           1  \n",
       "3           1  \n",
       "4           2  \n",
       "..        ...  \n",
       "296        99  \n",
       "297        99  \n",
       "298       100  \n",
       "299       100  \n",
       "300       100  \n",
       "\n",
       "[301 rows x 8 columns]"
      ]
     },
     "execution_count": 5,
     "metadata": {},
     "output_type": "execute_result"
    }
   ],
   "source": [
    "df"
   ]
  },
  {
   "cell_type": "code",
   "execution_count": 6,
   "metadata": {},
   "outputs": [],
   "source": [
    "import matplotlib.pyplot as plt"
   ]
  },
  {
   "cell_type": "code",
   "execution_count": 7,
   "metadata": {},
   "outputs": [
    {
     "data": {
      "text/plain": [
       "<matplotlib.legend.Legend at 0x7fe4e08ebe20>"
      ]
     },
     "execution_count": 7,
     "metadata": {},
     "output_type": "execute_result"
    },
    {
     "data": {
      "image/png": "[encoded data removed]",
      "text/plain": [
       "<Figure size 432x288 with 1 Axes>"
      ]
     },
     "metadata": {
      "needs_background": "light"
     },
     "output_type": "display_data"
    }
   ],
   "source": [
    "plt.plot(df.index, df.assets.values)\n",
    "plt.plot(df.index, df.credit.values)\n",
    "plt.plot(df.index, df.redeemable.values)\n",
    "plt.legend(['assets','credit','redeemable'])"
   ]
  },
  {
   "cell_type": "code",
   "execution_count": 8,
   "metadata": {},
   "outputs": [],
   "source": [
    "df['realized_price'] = df.assets.diff()/df.credit.diff() "
   ]
  },
  {
   "cell_type": "code",
   "execution_count": 9,
   "metadata": {},
   "outputs": [
    {
     "data": {
      "text/plain": [
       "<matplotlib.legend.Legend at 0x7fe4c03cfe80>"
      ]
     },
     "execution_count": 9,
     "metadata": {},
     "output_type": "execute_result"
    },
    {
     "data": {
      "image/png": "[encoded data removed]",
      "text/plain": [
       "<Figure size 432x288 with 1 Axes>"
      ]
     },
     "metadata": {
      "needs_background": "light"
     },
     "output_type": "display_data"
    }
   ],
   "source": [
    "plt.plot(df[df.substep==2].index, df[df.substep==2].realized_price.values)\n",
    "plt.plot(df[df.substep==3].index, df[df.substep==3].realized_price.values)\n",
    "plt.legend(['deposits','redemptions'])"
   ]
  },
  {
   "cell_type": "code",
   "execution_count": 11,
   "metadata": {},
   "outputs": [
    {
     "data": {
      "text/plain": [
       "<matplotlib.legend.Legend at 0x7fe49149c520>"
      ]
     },
     "execution_count": 11,
     "metadata": {},
     "output_type": "execute_result"
    },
    {
     "data": {
      "image/png": "[encoded data removed]",
      "text/plain": [
       "<Figure size 432x288 with 1 Axes>"
      ]
     },
     "metadata": {
      "needs_background": "light"
     },
     "output_type": "display_data"
    }
   ],
   "source": [
    "plt.semilogy(df[df.substep==2].index, df[df.substep==2].realized_price.values)\n",
    "plt.semilogy(df[df.substep==3].index, df[df.substep==3].realized_price.values)\n",
    "plt.legend(['deposits','redemptions'])"
   ]
  }
 ],
 "metadata": {
  "interpreter": {
   "hash": "91f5e78cabe1d5d9ca191bea9ff9467d09637b3bdaed5fd94361851834cd08a3"
  },
  "kernelspec": {
   "display_name": "Python 3.8.5 64-bit ('base': conda)",
   "name": "python3"
  },
  "language_info": {
   "codemirror_mode": {
    "name": "ipython",
    "version": 3
   },
   "file_extension": ".py",
   "mimetype": "text/x-python",
   "name": "python",
   "nbconvert_exporter": "python",
   "pygments_lexer": "ipython3",
   "version": "3.8.5"
  }
 },
 "nbformat": 4,
 "nbformat_minor": 4
}