{
 "cells": [
  {
   "cell_type": "markdown",
   "metadata": {
    "id": "LpMH2caVpI-d"
   },
   "source": [
    "# Simulation Interruptions in cadCAD through overrides\n",
    "\n",
    "This is an demonstration on how to use an State Variable called `interrupt` in order to control the duration of the simulation by patching the cadCAD engine.\n",
    "\n",
    "Danilo Lessa Bernardineli (danilo.lessa@gmail.com)\n",
    "\n",
    "---"
   ]
  },
  {
   "cell_type": "markdown",
   "metadata": {
    "id": "OhocCDI9qQxv"
   },
   "source": [
    "## Dependences"
   ]
  },
  {
   "cell_type": "code",
   "execution_count": 1,
   "metadata": {
    "id": "HDCK4j-lqOlE"
   },
   "outputs": [],
   "source": [
    "import pandas as pd\n",
    "import matplotlib.pyplot as plt\n",
    "import numpy as np\n",
    "import seaborn as sns\n",
    "from random import random\n",
    "from cadCAD.configuration import Experiment\n",
    "from cadCAD.configuration.utils import config_sim"
   ]
  },
  {
   "cell_type": "markdown",
   "metadata": {
    "id": "GBHeETbzqRzZ"
   },
   "source": [
    "## Definitions"
   ]
  },
  {
   "cell_type": "markdown",
   "metadata": {
    "id": "ixX1zQLeqiVg"
   },
   "source": [
    "### Initial conditions and parameters"
   ]
  },
  {
   "cell_type": "code",
   "execution_count": 2,
   "metadata": {
    "id": "v9-fA4kVng9S"
   },
   "outputs": [],
   "source": [
    "initial_conditions = {\n",
    "    'prey_population': 100,\n",
    "    'predator_population': 15,\n",
    "    'interrupt': False\n",
    "    }\n",
    "\n",
    "params = {\n",
    "    \"prey_birth_rate\": [1.0, 2.0],\n",
    "    \"predator_birth_rate\": [0.01],\n",
    "    \"predator_death_const\": [1.0],\n",
    "    \"prey_death_const\": [0.03],\n",
    "    \"dt\": [0.1] # Precision of the simulation. Lower is more accurate / slower\n",
    "}"
   ]
  },
  {
   "cell_type": "markdown",
   "metadata": {
    "id": "7wFFOAyTqWIT"
   },
   "source": [
    "### Policies"
   ]
  },
  {
   "cell_type": "code",
   "execution_count": 3,
   "metadata": {
    "id": "tQ95uKSDgw0o"
   },
   "outputs": [],
   "source": [
    "def p_predator_births(params, step, sL, s):\n",
    "  dt = params['dt']\n",
    "  predator_population = s['predator_population']\n",
    "  prey_population = s['prey_population']\n",
    "  birth_fraction = params['predator_birth_rate'] + np.random.random() * 0.0002\n",
    "  births =  birth_fraction * prey_population * predator_population * dt\n",
    "  return {'add_to_predator_population': births}\n",
    "\n",
    "\n",
    "def p_prey_births(params, step, sL, s):\n",
    "  dt = params['dt']\n",
    "  population = s['prey_population']\n",
    "  birth_fraction = params['prey_birth_rate'] + np.random.random() * 0.1\n",
    "  births =  birth_fraction * population * dt\n",
    "  return {'add_to_prey_population': births}\n",
    "\n",
    "\n",
    "def p_predator_deaths(params, step, sL, s):\n",
    "  dt = params['dt']\n",
    "  population = s['predator_population']\n",
    "  death_rate = params['predator_death_const'] + np.random.random() * 0.005\n",
    "  deaths = death_rate * population * dt\n",
    "  return {'add_to_predator_population': -1.0 * deaths}\n",
    "\n",
    "\n",
    "def p_prey_deaths(params, step, sL, s):\n",
    "  dt = params['dt']\n",
    "  death_rate = params['prey_death_const'] + np.random.random() * 0.1\n",
    "  prey_population = s['prey_population']\n",
    "  predator_population = s['predator_population']\n",
    "  deaths = death_rate * prey_population * predator_population * dt\n",
    "  return {'add_to_prey_population': -1.0 * deaths}"
   ]
  },
  {
   "cell_type": "markdown",
   "metadata": {
    "id": "JGc0YxhpqZx4"
   },
   "source": [
    "### State update functions"
   ]
  },
  {
   "cell_type": "code",
   "execution_count": 4,
   "metadata": {
    "id": "yjevL_YjiOf-"
   },
   "outputs": [],
   "source": [
    "def s_prey_population(params, step, sL, s, _input):\n",
    "    y = 'prey_population'\n",
    "    x = s['prey_population'] + _input['add_to_prey_population']\n",
    "    return (y, x)\n",
    "\n",
    "\n",
    "def s_predator_population(params, step, sL, s, _input):\n",
    "    y = 'predator_population'\n",
    "    x = s['predator_population'] + _input['add_to_predator_population']\n",
    "    return (y, x)\n",
    "\n",
    "def s_interrupt(params, step, sL, s, _input):\n",
    "    \n",
    "    interrupt = False\n",
    "    if s['timestep'] > 3:\n",
    "        if random() > 0.8:\n",
    "            interrupt = True\n",
    "        else:\n",
    "            interrupt = False\n",
    "    return ('interrupt', interrupt)"
   ]
  },
  {
   "cell_type": "markdown",
   "metadata": {
    "id": "sDkDXtvuqk83"
   },
   "source": [
    "### State update blocks"
   ]
  },
  {
   "cell_type": "code",
   "execution_count": 5,
   "metadata": {
    "id": "9cX_4gdBq0VQ"
   },
   "outputs": [],
   "source": [
    "partial_state_update_blocks = [\n",
    "    { \n",
    "        'label': 'Lotka-Volterra Dynamics',\n",
    "        'policies': {\n",
    "            'predator_births': p_predator_births,\n",
    "            'prey_births': p_prey_births,\n",
    "            'predator_deaths': p_predator_deaths,\n",
    "            'prey_deaths': p_prey_deaths,\n",
    "        },\n",
    "        'variables': {\n",
    "            'predator_population': s_prey_population,\n",
    "            'prey_population': s_predator_population\n",
    "        }\n",
    "    },\n",
    "    {\n",
    "        'label': 'Simulation Interruption Logic',\n",
    "        'policies': {},\n",
    "        'variables': {\n",
    "            'prey_population': s_interrupt\n",
    "        }\n",
    "        \n",
    "    }\n",
    "]"
   ]
  },
  {
   "cell_type": "markdown",
   "metadata": {},
   "source": [
    "### Patch 1"
   ]
  },
  {
   "cell_type": "code",
   "execution_count": 6,
   "metadata": {},
   "outputs": [],
   "source": [
    "from typing import Tuple, Any, Dict, List, Callable\n",
    "\n",
    "from cadCAD.engine.simulation import Executor as SimExecutor\n",
    "\n",
    "def new_run_pipeline(\n",
    "        self,\n",
    "        sweep_dict: Dict[str, List[Any]],\n",
    "        states_list: List[Dict[str, Any]],\n",
    "        configs: List[Tuple[List[Callable], List[Callable]]],\n",
    "        env_processes: Dict[str, Callable],\n",
    "        time_seq: range,\n",
    "        run: int,\n",
    "        additional_objs\n",
    "    ) -> List[List[Dict[str, Any]]]:\n",
    "        time_seq: List[int] = [x + 1 for x in time_seq]\n",
    "        simulation_list: List[List[Dict[str, Any]]] = [states_list]\n",
    "\n",
    "        for time_step in time_seq:\n",
    "            \n",
    "            last_state = simulation_list[-1]\n",
    "            \n",
    "            pipe_run: List[Dict[str, Any]] = self.state_update_pipeline(\n",
    "                sweep_dict, simulation_list, configs, env_processes, time_step, run, additional_objs\n",
    "            )\n",
    "            _, *pipe_run = pipe_run\n",
    "            simulation_list.append(pipe_run)\n",
    "            \n",
    "            \n",
    "            # print(f\"{time_step}, {pipe_run}, {sweep_dict}\")\n",
    "            do_stop = pipe_run[-1].get('interrupt', False)\n",
    "            if do_stop:\n",
    "                break\n",
    "\n",
    "        return simulation_list\n",
    "    \n",
    "SimExecutor.run_pipeline = new_run_pipeline"
   ]
  },
  {
   "cell_type": "markdown",
   "metadata": {},
   "source": [
    "### Patch 2: Make `cadCAD.engine.Executor` use `self.SimExecutor` for simulations rather than `SimExecutor`"
   ]
  },
  {
   "cell_type": "code",
   "execution_count": 7,
   "metadata": {},
   "outputs": [],
   "source": [
    "from cadCAD.utils import flatten\n",
    "from cadCAD.utils.execution import print_exec_info\n",
    "from cadCAD.configuration import Configuration, Processor\n",
    "from cadCAD.configuration.utils import TensorFieldReport, configs_as_objs, configs_as_dicts\n",
    "from cadCAD.engine.execution import single_proc_exec, parallelize_simulations, local_simulations\n",
    "\n",
    "\n",
    "def new_execute(self) -> Tuple[Any, Any, Dict[str, Any]]:\n",
    "        if self.empty_return is True:\n",
    "            return [], [], []\n",
    "\n",
    "        config_proc = Processor()\n",
    "        create_tensor_field = TensorFieldReport(config_proc).create_tensor_field\n",
    "\n",
    "        sessions = []\n",
    "        var_dict_list, states_lists = [], []\n",
    "        Ts, Ns, SimIDs, RunIDs = [], [], [], []\n",
    "        ExpIDs, ExpWindows, SubsetIDs, SubsetWindows = [], [], [], []\n",
    "        eps, configs_structs, env_processes_list = [], [], []\n",
    "        partial_state_updates, sim_executors = [], []\n",
    "        config_idx = 0\n",
    "\n",
    "        # Execution Info\n",
    "        print_exec_info(self.exec_context, configs_as_objs(self.configs))\n",
    "\n",
    "        t1 = time()\n",
    "        for x in self.configs:\n",
    "            sessions.append(\n",
    "                {\n",
    "                    'user_id': x.user_id, 'experiment_id': x.experiment_id, 'session_id': x.session_id,\n",
    "                    'simulation_id': x.simulation_id, 'run_id': x.run_id,\n",
    "                    'subset_id': x.subset_id, 'subset_window': x.subset_window\n",
    "                }\n",
    "            )\n",
    "            Ts.append(x.sim_config['T'])\n",
    "            Ns.append(x.sim_config['N'])\n",
    "\n",
    "            ExpIDs.append(x.experiment_id)\n",
    "            ExpWindows.append(x.exp_window)\n",
    "            SimIDs.append(x.simulation_id)\n",
    "            SubsetIDs.append(x.subset_id)\n",
    "            RunIDs.append(x.run_id)\n",
    "            SubsetWindows.append(x.subset_window)\n",
    "\n",
    "            var_dict_list.append(x.sim_config['M'])\n",
    "            states_lists.append([x.initial_state])\n",
    "            eps.append(list(x.exogenous_states.values()))\n",
    "            configs_structs.append(config_proc.generate_config(x.initial_state, x.partial_state_update_blocks, eps[config_idx]))\n",
    "            env_processes_list.append(x.env_processes)\n",
    "            partial_state_updates.append(x.partial_state_update_blocks)\n",
    "            sim_executors.append(self.SimExecutor(x.policy_ops).simulation)\n",
    "\n",
    "            config_idx += 1\n",
    "\n",
    "        def get_final_dist_results(simulations, psus, eps, sessions):\n",
    "            tensor_fields = [create_tensor_field(psu, ep) for psu, ep in list(zip(psus, eps))]\n",
    "            return simulations, tensor_fields, sessions\n",
    "\n",
    "        def get_final_results(simulations, psus, eps, sessions, remote_threshold):\n",
    "            flat_timesteps, tensor_fields = [], []\n",
    "            for sim_result, psu, ep in list(zip(simulations, psus, eps)):\n",
    "                flat_timesteps.append(flatten(sim_result))\n",
    "                tensor_fields.append(create_tensor_field(psu, ep))\n",
    "\n",
    "            flat_simulations = flatten(flat_timesteps)\n",
    "            if config_amt == 1:\n",
    "                return simulations, tensor_fields, sessions\n",
    "            elif config_amt > 1:\n",
    "                return flat_simulations, tensor_fields, sessions\n",
    "\n",
    "        remote_threshold = 100\n",
    "        config_amt = len(self.configs)\n",
    "\n",
    "        def auto_mode_switcher(config_amt):\n",
    "            try:\n",
    "                if config_amt == 1:\n",
    "                    return ExecutionMode.single_mode, single_proc_exec\n",
    "                elif (config_amt > 1):\n",
    "                    return ExecutionMode.multi_mode, parallelize_simulations\n",
    "            except AttributeError:\n",
    "                if config_amt < 1:\n",
    "                    raise ValueError('N must be >= 1!')\n",
    "\n",
    "        final_result = None\n",
    "        original_N = len(configs_as_dicts(self.configs))\n",
    "        if self.exec_context != ExecutionMode.distributed:\n",
    "            # Consider Legacy Support\n",
    "            if self.exec_context != ExecutionMode.local_mode:\n",
    "                self.exec_context, self.exec_method = auto_mode_switcher(config_amt)\n",
    "\n",
    "            print(\"Execution Method: \" + self.exec_method.__name__)\n",
    "            simulations_results = self.exec_method(\n",
    "                sim_executors, var_dict_list, states_lists, configs_structs, env_processes_list, Ts, SimIDs, RunIDs,\n",
    "                ExpIDs, SubsetIDs, SubsetWindows, original_N\n",
    "            )\n",
    "\n",
    "            final_result = get_final_results(simulations_results, partial_state_updates, eps, sessions, remote_threshold)\n",
    "        elif self.exec_context == ExecutionMode.distributed:\n",
    "            print(\"Execution Method: \" + self.exec_method.__name__)\n",
    "            simulations_results = self.exec_method(\n",
    "                sim_executors, var_dict_list, states_lists, configs_structs, env_processes_list, Ts,\n",
    "                SimIDs, RunIDs, ExpIDs, SubsetIDs, SubsetWindows, original_N, self.sc\n",
    "            )\n",
    "            final_result = get_final_dist_results(simulations_results, partial_state_updates, eps, sessions)\n",
    "\n",
    "        t2 = time()\n",
    "        print(f\"Total execution time: {t2 - t1 :.2f}s\")\n",
    "\n",
    "        return final_result\n",
    "    \n",
    "from cadCAD.engine import ExecutionMode, ExecutionContext, Executor\n",
    "\n",
    "Executor.SimExecutor = SimExecutor\n",
    "Executor.execute = new_execute"
   ]
  },
  {
   "cell_type": "markdown",
   "metadata": {
    "id": "ogOcMvy9q1Ay"
   },
   "source": [
    "### Configuration and Execution"
   ]
  },
  {
   "cell_type": "code",
   "execution_count": 8,
   "metadata": {
    "colab": {
     "base_uri": "https://localhost:8080/",
     "height": 603
    },
    "id": "oM0C-4Cnhml0",
    "outputId": "aeacd40d-21ef-487d-e565-c6976e1339e7"
   },
   "outputs": [
    {
     "name": "stdout",
     "output_type": "stream",
     "text": [
      "\n",
      "                  ___________    ____\n",
      "  ________ __ ___/ / ____/   |  / __ \\\n",
      " / ___/ __` / __  / /   / /| | / / / /\n",
      "/ /__/ /_/ / /_/ / /___/ ___ |/ /_/ /\n",
      "\\___/\\__,_/\\__,_/\\____/_/  |_/_____/\n",
      "by cadCAD\n",
      "\n",
      "cadCAD Version: 0.4.28\n",
      "Execution Mode: local_proc\n",
      "Simulation Dimensions:\n",
      "Entire Simulation: (Models, Unique Timesteps, Params, Total Runs, Sub-States) = (1, 50, 5, 4, 3)\n",
      "     Simulation 0: (Timesteps, Params, Runs, Sub-States) = (50, 5, 4, 3)\n",
      "Execution Method: local_simulations\n",
      "Execution Mode: parallelized\n",
      "Total execution time: 0.37s\n",
      "0.3689138889312744\n"
     ]
    }
   ],
   "source": [
    "from time import time\n",
    "def run(N, T):\n",
    "  t1 = time()\n",
    "  simulation_parameters = {\n",
    "      'N': N,\n",
    "      'T': range(T),\n",
    "      'M': params\n",
    "  }\n",
    "  sim_config = config_sim(simulation_parameters)\n",
    "\n",
    "  exp = Experiment()\n",
    "  exp.append_configs(sim_configs=sim_config, \n",
    "                    initial_state=initial_conditions,\n",
    "                    partial_state_update_blocks=partial_state_update_blocks)\n",
    "\n",
    "\n",
    "  exec_mode = ExecutionMode()\n",
    "  exec_context = ExecutionContext(exec_mode.local_mode)\n",
    "  executor = Executor(exec_context=exec_context, \n",
    "                      configs=exp.configs)\n",
    "  \n",
    "  (records, tensor_field, _) = executor.execute() \n",
    "  t2 = time()\n",
    "  print(t2 - t1)\n",
    "  return pd.DataFrame(records)\n",
    "df = run(2, 50)"
   ]
  },
  {
   "cell_type": "code",
   "execution_count": 9,
   "metadata": {},
   "outputs": [
    {
     "data": {
      "text/plain": [
       "run  subset\n",
       "1    0          5\n",
       "     1         12\n",
       "2    0         13\n",
       "     1         12\n",
       "Name: timestep, dtype: int64"
      ]
     },
     "execution_count": 9,
     "metadata": {},
     "output_type": "execute_result"
    }
   ],
   "source": [
    "df.groupby([\"run\", \"subset\"]).timestep.max()"
   ]
  }
 ],
 "metadata": {
  "colab": {
   "provenance": []
  },
  "kernelspec": {
   "display_name": "Python 3 (ipykernel)",
   "language": "python",
   "name": "python3"
  },
  "language_info": {
   "codemirror_mode": {
    "name": "ipython",
    "version": 3
   },
   "file_extension": ".py",
   "mimetype": "text/x-python",
   "name": "python",
   "nbconvert_exporter": "python",
   "pygments_lexer": "ipython3",
   "version": "3.10.9"
  }
 },
 "nbformat": 4,
 "nbformat_minor": 4
}
