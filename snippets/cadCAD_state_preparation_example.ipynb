{
  "nbformat": 4,
  "nbformat_minor": 0,
  "metadata": {
    "colab": {
      "provenance": [],
      "authorship_tag": "ABX9TyPqwU1rk1v5e+GQMsKG56sJ",
      "include_colab_link": true
    },
    "kernelspec": {
      "name": "python3",
      "display_name": "Python 3"
    },
    "language_info": {
      "name": "python"
    }
  },
  "cells": [
    {
      "cell_type": "markdown",
      "metadata": {
        "id": "view-in-github",
        "colab_type": "text"
      },
      "source": [
        "<a href=\"https://colab.research.google.com/github/danlessa/snippets/blob/main/snippets/cadCAD_state_preparation_example.ipynb\" target=\"_parent\"><img src=\"https://colab.research.google.com/assets/colab-badge.svg\" alt=\"Open In Colab\"/></a>"
      ]
    },
    {
      "cell_type": "code",
      "execution_count": 1,
      "metadata": {
        "id": "b5LiIEhsppc0"
      },
      "outputs": [],
      "source": [
        "%%capture\n",
        "!pip install cadCAD"
      ]
    },
    {
      "cell_type": "code",
      "source": [
        "from cadCAD.configuration import Experiment\n",
        "from cadCAD.configuration.utils import config_sim\n",
        "from cadCAD.engine import ExecutionContext, ExecutionMode, Executor"
      ],
      "metadata": {
        "id": "zj4soENipsn4"
      },
      "execution_count": 3,
      "outputs": []
    },
    {
      "cell_type": "code",
      "source": [
        "MC_RUNS = 5\n",
        "N_TIMESTEPS = 10\n",
        "\n",
        "PARAMS_TO_SWEEP = {\n",
        "    'param_A': [1, 2, 3],\n",
        "    'param_B': [4, 5, 6]\n",
        "}\n",
        "\n",
        "\n",
        "INITIAL_STATE = {\n",
        "    'var_1': 10,\n",
        "    'var_2': 20\n",
        "}\n",
        "\n",
        "\n",
        "sim_config = config_sim({\n",
        "    'N': MC_RUNS,\n",
        "    'T': range(N_TIMESTEPS),\n",
        "    'M': PARAMS_TO_SWEEP\n",
        "})\n",
        "\n",
        "PSUBs = [{}]\n",
        "\n",
        "\n",
        "exp = Experiment()\n",
        "exp.append_configs(\n",
        "    sim_configs=sim_config,\n",
        "    initial_state=INITIAL_STATE,\n",
        "    partial_state_update_blocks=PSUBs,\n",
        ")\n",
        "\n",
        "configs = exp.configs"
      ],
      "metadata": {
        "id": "D4flwC6Bpx6i"
      },
      "execution_count": 5,
      "outputs": []
    },
    {
      "cell_type": "code",
      "source": [
        "def print_configs(configs):\n",
        "  for i, config in enumerate(configs):\n",
        "    print(f\"Config {i+1}: {config.initial_state=}, {config.sim_config['M']=}\")\n",
        "\n",
        "print_configs(configs)"
      ],
      "metadata": {
        "colab": {
          "base_uri": "https://localhost:8080/"
        },
        "id": "VO-P6MV6rETj",
        "outputId": "763af53c-b1f1-4168-c182-e3f66a9f77e9"
      },
      "execution_count": 8,
      "outputs": [
        {
          "output_type": "stream",
          "name": "stdout",
          "text": [
            "Config 1: config.initial_state={'var_1': 10, 'var_2': 20}, config.sim_config['M']={'param_A': 1, 'param_B': 4}\n",
            "Config 2: config.initial_state={'var_1': 10, 'var_2': 20}, config.sim_config['M']={'param_A': 1, 'param_B': 4}\n",
            "Config 3: config.initial_state={'var_1': 10, 'var_2': 20}, config.sim_config['M']={'param_A': 1, 'param_B': 4}\n",
            "Config 4: config.initial_state={'var_1': 10, 'var_2': 20}, config.sim_config['M']={'param_A': 1, 'param_B': 4}\n",
            "Config 5: config.initial_state={'var_1': 10, 'var_2': 20}, config.sim_config['M']={'param_A': 1, 'param_B': 4}\n",
            "Config 6: config.initial_state={'var_1': 10, 'var_2': 20}, config.sim_config['M']={'param_A': 2, 'param_B': 5}\n",
            "Config 7: config.initial_state={'var_1': 10, 'var_2': 20}, config.sim_config['M']={'param_A': 2, 'param_B': 5}\n",
            "Config 8: config.initial_state={'var_1': 10, 'var_2': 20}, config.sim_config['M']={'param_A': 2, 'param_B': 5}\n",
            "Config 9: config.initial_state={'var_1': 10, 'var_2': 20}, config.sim_config['M']={'param_A': 2, 'param_B': 5}\n",
            "Config 10: config.initial_state={'var_1': 10, 'var_2': 20}, config.sim_config['M']={'param_A': 2, 'param_B': 5}\n",
            "Config 11: config.initial_state={'var_1': 10, 'var_2': 20}, config.sim_config['M']={'param_A': 3, 'param_B': 6}\n",
            "Config 12: config.initial_state={'var_1': 10, 'var_2': 20}, config.sim_config['M']={'param_A': 3, 'param_B': 6}\n",
            "Config 13: config.initial_state={'var_1': 10, 'var_2': 20}, config.sim_config['M']={'param_A': 3, 'param_B': 6}\n",
            "Config 14: config.initial_state={'var_1': 10, 'var_2': 20}, config.sim_config['M']={'param_A': 3, 'param_B': 6}\n",
            "Config 15: config.initial_state={'var_1': 10, 'var_2': 20}, config.sim_config['M']={'param_A': 3, 'param_B': 6}\n"
          ]
        }
      ]
    },
    {
      "cell_type": "code",
      "source": [
        "def set_var_3(config):\n",
        "  \"\"\"\n",
        "  Set var 3 in-place.\n",
        "  \"\"\"\n",
        "  value = config.sim_config['M']['param_A'] * config.sim_config['M']['param_B'] + config.initial_state['var_1']\n",
        "  config.initial_state['var_3'] = value\n",
        "\n",
        "def set_var_4(config):\n",
        "  \"\"\"\n",
        "  Set var 4 in-place.\n",
        "  \"\"\"\n",
        "  value = config.sim_config['M']['param_A'] + config.sim_config['M']['param_B'] + config.initial_state['var_2']\n",
        "  config.initial_state['var_4'] = value\n",
        "\n",
        "\n",
        "for config in configs:\n",
        "    set_var_3(config)\n",
        "    set_var_4(config)\n",
        "\n",
        "print_configs(configs)"
      ],
      "metadata": {
        "colab": {
          "base_uri": "https://localhost:8080/"
        },
        "id": "N7Of3Xtcq_ju",
        "outputId": "d850e80e-a7a0-4bc5-c256-c6d92642c9b8"
      },
      "execution_count": 11,
      "outputs": [
        {
          "output_type": "stream",
          "name": "stdout",
          "text": [
            "Config 1: config.initial_state={'var_1': 10, 'var_2': 20, 'var_3': 14, 'var_4': 25}, config.sim_config['M']={'param_A': 1, 'param_B': 4}\n",
            "Config 2: config.initial_state={'var_1': 10, 'var_2': 20, 'var_3': 14, 'var_4': 25}, config.sim_config['M']={'param_A': 1, 'param_B': 4}\n",
            "Config 3: config.initial_state={'var_1': 10, 'var_2': 20, 'var_3': 14, 'var_4': 25}, config.sim_config['M']={'param_A': 1, 'param_B': 4}\n",
            "Config 4: config.initial_state={'var_1': 10, 'var_2': 20, 'var_3': 14, 'var_4': 25}, config.sim_config['M']={'param_A': 1, 'param_B': 4}\n",
            "Config 5: config.initial_state={'var_1': 10, 'var_2': 20, 'var_3': 14, 'var_4': 25}, config.sim_config['M']={'param_A': 1, 'param_B': 4}\n",
            "Config 6: config.initial_state={'var_1': 10, 'var_2': 20, 'var_3': 20, 'var_4': 27}, config.sim_config['M']={'param_A': 2, 'param_B': 5}\n",
            "Config 7: config.initial_state={'var_1': 10, 'var_2': 20, 'var_3': 20, 'var_4': 27}, config.sim_config['M']={'param_A': 2, 'param_B': 5}\n",
            "Config 8: config.initial_state={'var_1': 10, 'var_2': 20, 'var_3': 20, 'var_4': 27}, config.sim_config['M']={'param_A': 2, 'param_B': 5}\n",
            "Config 9: config.initial_state={'var_1': 10, 'var_2': 20, 'var_3': 20, 'var_4': 27}, config.sim_config['M']={'param_A': 2, 'param_B': 5}\n",
            "Config 10: config.initial_state={'var_1': 10, 'var_2': 20, 'var_3': 20, 'var_4': 27}, config.sim_config['M']={'param_A': 2, 'param_B': 5}\n",
            "Config 11: config.initial_state={'var_1': 10, 'var_2': 20, 'var_3': 28, 'var_4': 29}, config.sim_config['M']={'param_A': 3, 'param_B': 6}\n",
            "Config 12: config.initial_state={'var_1': 10, 'var_2': 20, 'var_3': 28, 'var_4': 29}, config.sim_config['M']={'param_A': 3, 'param_B': 6}\n",
            "Config 13: config.initial_state={'var_1': 10, 'var_2': 20, 'var_3': 28, 'var_4': 29}, config.sim_config['M']={'param_A': 3, 'param_B': 6}\n",
            "Config 14: config.initial_state={'var_1': 10, 'var_2': 20, 'var_3': 28, 'var_4': 29}, config.sim_config['M']={'param_A': 3, 'param_B': 6}\n",
            "Config 15: config.initial_state={'var_1': 10, 'var_2': 20, 'var_3': 28, 'var_4': 29}, config.sim_config['M']={'param_A': 3, 'param_B': 6}\n"
          ]
        }
      ]
    },
    {
      "cell_type": "code",
      "source": [],
      "metadata": {
        "id": "HWJ92cV1rYqR"
      },
      "execution_count": null,
      "outputs": []
    }
  ]
}